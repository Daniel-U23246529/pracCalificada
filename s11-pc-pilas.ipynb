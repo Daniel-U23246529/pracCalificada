{
 "cells": [
  {
   "cell_type": "markdown",
   "id": "initial_id",
   "metadata": {},
   "source": [
    "# Práctica Calificada - Pilas\n",
    "\n",
    "**Nombre:** _________________\n",
    "\n",
    "**Instrucciones:** Resuelve cada ejercicio implementando funciones con pilas."
   ]
  },
  {
   "cell_type": "markdown",
   "id": "ej1",
   "metadata": {},
   "source": [
    "---\n",
    "## Ejercicio 1: Historial de Navegador (6 puntos)\n",
    "\n",
    "Imagina que estás programando el botón \"Atrás\" de un navegador web.\n",
    "\n",
    "Crea una función `navegar(historial, pagina)` que:\n",
    "- Agrega una nueva página al historial\n",
    "- Retorna el historial actualizado\n",
    "\n",
    "Y una función `retroceder(historial)` que:\n",
    "- Elimina la página actual (la última visitada)\n",
    "- Retorna la página anterior\n",
    "- Si no hay páginas previas, retorna `\"Inicio\"`\n",
    "\n",
    "**Ejemplo:**\n",
    "```python\n",
    "historial = []\n",
    "historial = navegar(historial, \"google.com\")\n",
    "historial = navegar(historial, \"youtube.com\")\n",
    "historial = navegar(historial, \"facebook.com\")\n",
    "\n",
    "print(retroceder(historial))  # Debe mostrar: youtube.com\n",
    "```\n",
    "\n",
    "**Pista:** El historial es una pila donde la última página visitada está al final."
   ]
  },
  {
   "cell_type": "code",
   "execution_count": null,
   "id": "sol1",
   "metadata": {},
   "outputs": [],
   "source": [
    "# Escribe tu solución aquí\n",
    "\n",
    "def navegar(historial, pagina):\n",
    "    pass\n",
    "\n",
    "def retroceder(historial):\n",
    "    pass\n",
    "\n",
    "# Prueba tu código\n",
    "historial = []\n",
    "historial = navegar(historial, \"google.com\")\n",
    "historial = navegar(historial, \"youtube.com\")\n",
    "historial = navegar(historial, \"facebook.com\")\n",
    "print(retroceder(historial))"
   ]
  },
  {
   "cell_type": "markdown",
   "id": "ej2",
   "metadata": {},
   "source": [
    "---\n",
    "## Ejercicio 2: Deshacer cambios en Editor (6 puntos)\n",
    "\n",
    "Estás desarrollando la función \"Deshacer\" (Ctrl+Z) de un editor de texto.\n",
    "\n",
    "Crea una función `escribir(texto_actual, historial, nuevo_texto)` que:\n",
    "- Guarda el estado actual en el historial\n",
    "- Retorna el nuevo texto\n",
    "\n",
    "Y una función `deshacer(historial)` que:\n",
    "- Retorna el último estado guardado\n",
    "- Si no hay historial, retorna `\"\"`\n",
    "\n",
    "**Ejemplo:**\n",
    "```python\n",
    "texto = \"\"\n",
    "historial = []\n",
    "\n",
    "texto, historial = escribir(texto, historial, \"Hola\")\n",
    "texto, historial = escribir(texto, historial, \"Hola mundo\")\n",
    "texto, historial = escribir(texto, historial, \"Hola mundo cruel\")\n",
    "\n",
    "texto = deshacer(historial)  # Debe mostrar: Hola mundo\n",
    "```\n",
    "\n",
    "**Pista:** Cada cambio se apila antes de aplicar el nuevo texto."
   ]
  },
  {
   "cell_type": "code",
   "execution_count": null,
   "id": "sol2",
   "metadata": {},
   "outputs": [],
   "source": [
    "# Escribe tu solución aquí\n",
    "\n",
    "def escribir(texto_actual, historial, nuevo_texto):\n",
    "    pass\n",
    "\n",
    "def deshacer(historial):\n",
    "    pass\n",
    "\n",
    "# Prueba tu código\n",
    "texto = \"\"\n",
    "historial = []\n",
    "texto, historial = escribir(texto, historial, \"Hola\")\n",
    "texto, historial = escribir(texto, historial, \"Hola mundo\")\n",
    "texto, historial = escribir(texto, historial, \"Hola mundo cruel\")\n",
    "print(deshacer(historial))"
   ]
  },
  {
   "cell_type": "markdown",
   "id": "ej3",
   "metadata": {},
   "source": [
    "---\n",
    "## Ejercicio 3: Validador de Código (8 puntos)\n",
    "\n",
    "Los editores de código validan que los paréntesis, llaves y corchetes estén correctamente cerrados.\n",
    "\n",
    "Crea una función `validar_sintaxis(codigo)` que verifique si los símbolos están balanceados:\n",
    "\n",
    "- `(` debe cerrarse con `)`\n",
    "- `{` debe cerrarse con `}`\n",
    "- `[` debe cerrarse con `]`\n",
    "- Retorna `True` si está balanceado, `False` si no\n",
    "\n",
    "**Ejemplos:**\n",
    "```python\n",
    "validar_sintaxis(\"(a + b)\")           # True\n",
    "validar_sintaxis(\"[(x + y) * z]\")    # True\n",
    "validar_sintaxis(\"{[()]}\")           # True\n",
    "validar_sintaxis(\"(a + b]\")          # False (cierre incorrecto)\n",
    "validar_sintaxis(\"((a + b)\")         # False (falta cerrar)\n",
    "validar_sintaxis(\"())()\")            # False (cierre sin apertura)\n",
    "```\n",
    "\n",
    "**Pistas:**\n",
    "- Recorre cada carácter del código\n",
    "- Cuando encuentres `(`, `{` o `[`, apílalos\n",
    "- Cuando encuentres `)`, `}` o `]`, verifica que coincida con el tope de la pila\n",
    "- Al final, la pila debe estar vacía"
   ]
  },
  {
   "cell_type": "code",
   "execution_count": null,
   "id": "sol3",
   "metadata": {},
   "outputs": [],
   "source": [
    "# Escribe tu solución aquí\n",
    "\n",
    "def validar_sintaxis(codigo):\n",
    "    pass\n",
    "\n",
    "# Prueba tu código\n",
    "print(validar_sintaxis(\"(a + b)\"))           # True\n",
    "print(validar_sintaxis(\"[(x + y) * z]\"))    # True\n",
    "print(validar_sintaxis(\"{[()]}\"))           # True\n",
    "print(validar_sintaxis(\"(a + b]\"))          # False\n",
    "print(validar_sintaxis(\"((a + b)\"))         # False\n",
    "print(validar_sintaxis(\"())()\"))            # False"
   ]
  }
 ],
 "metadata": {
  "kernelspec": {
   "display_name": "Python 3",
   "language": "python",
   "name": "python3"
  },
  "language_info": {
   "name": "python",
   "version": "3.9.0"
  }
 },
 "nbformat": 4,
 "nbformat_minor": 5
}
